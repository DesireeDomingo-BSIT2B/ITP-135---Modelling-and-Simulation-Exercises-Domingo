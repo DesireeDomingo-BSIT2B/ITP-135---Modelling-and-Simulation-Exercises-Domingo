{
  "cells": [
    {
      "cell_type": "markdown",
      "source": [
        "**Connecting to GDrive**"
      ],
      "metadata": {
        "id": "hbSexveiSNpA"
      }
    },
    {
      "cell_type": "code",
      "source": [
        "from google.colab import drive\n",
        "drive.mount('/content/drive')"
      ],
      "metadata": {
        "colab": {
          "base_uri": "https://localhost:8080/"
        },
        "id": "CFYdGys3SK6k",
        "outputId": "8588a983-ac50-4591-ec26-291e58a639ef"
      },
      "execution_count": 14,
      "outputs": [
        {
          "output_type": "stream",
          "name": "stdout",
          "text": [
            "Mounted at /content/drive\n"
          ]
        }
      ]
    },
    {
      "cell_type": "code",
      "source": [
        "import os\n",
        "import matplotlib.pyplot as plt\n",
        "import matplotlib.image as mpimg"
      ],
      "metadata": {
        "id": "cYYmhjeHSaJY"
      },
      "execution_count": 15,
      "outputs": []
    },
    {
      "cell_type": "markdown",
      "source": [
        "**Displaying Pictures**"
      ],
      "metadata": {
        "id": "Kf4uDjw9Tz-S"
      }
    },
    {
      "cell_type": "code",
      "source": [
        "import os\n",
        "\n",
        "flower_photo_folder = \"/content/drive/MyDrive/Colab Notebooks/pictures/flower_photos\"\n",
        "\n",
        "flower_categories = [\"daisy\", \"dandelion\", \"roses\", \"sunflowers\", \"tulips\"]\n",
        "\n",
        "image_count = 0\n",
        "\n",
        "# Iterate through each flower category\n",
        "for category in flower_categories:\n",
        "    category_folder = os.path.join(flower_photo_folder, category)\n",
        "    # Check if category folder exists\n",
        "    if os.path.exists(category_folder):\n",
        "        for filename in os.listdir(category_folder):\n",
        "            if filename.endswith(\".jpg\") or filename.endswith(\".jpeg\"):\n",
        "                image_count += 1\n",
        "\n",
        "print(\"Total number of selfie images:\", image_count)"
      ],
      "metadata": {
        "colab": {
          "base_uri": "https://localhost:8080/"
        },
        "id": "ntR2xqa3T5T2",
        "outputId": "60ec28a5-4064-4fc5-a12e-15077cb09ed8"
      },
      "execution_count": 32,
      "outputs": [
        {
          "output_type": "stream",
          "name": "stdout",
          "text": [
            "Total number of selfie images: 2711\n"
          ]
        }
      ]
    },
    {
      "cell_type": "code",
      "source": [
        "import os\n",
        "import numpy as np\n",
        "import tensorflow as tf\n",
        "import matplotlib.pyplot as plt\n",
        "\n",
        "# Define or load your TensorFlow model here\n",
        "# For example, you can define a simple model like this:\n",
        "num_classes = 1  # Replace 5 with the actual number of classes in your dataset\n",
        "\n",
        "model = tf.keras.Sequential([\n",
        "    tf.keras.layers.Conv2D(32, (3, 3), activation='relu', input_shape=(30, 30, 3)),\n",
        "    tf.keras.layers.MaxPooling2D((2, 2)),\n",
        "    tf.keras.layers.Conv2D(64, (3, 3), activation='relu'),\n",
        "    tf.keras.layers.MaxPooling2D((2, 2)),\n",
        "    tf.keras.layers.Conv2D(64, (3, 3), activation='relu'),\n",
        "    tf.keras.layers.Flatten(),\n",
        "    tf.keras.layers.Dense(64, activation='relu'),\n",
        "    tf.keras.layers.Dense(num_classes)\n",
        "])\n",
        "\n",
        "# Path to the folder containing the images\n",
        "selfie_folder = \"/content/drive/MyDrive/Colab Notebooks/pictures/flower_photos/roses\"\n",
        "\n",
        "# List of image filenames\n",
        "selfie_filenames = [\"12240303_80d87f77a3_n.jpg\", \"selfie_3.jpg\", \"102501987_3cdb8e5394_n.jpg\"]\n",
        "\n",
        "# Iterate over each image filename\n",
        "for selfie_filename in selfie_filenames:\n",
        "    # Path to the image file\n",
        "    selfie_path = os.path.join(selfie_folder, selfie_filename)\n",
        "\n",
        "    # Load and preprocess the image\n",
        "    img = tf.keras.utils.load_img(selfie_path, target_size=(30, 30))\n",
        "    img_array = tf.keras.utils.img_to_array(img)\n",
        "    img_array = tf.expand_dims(img_array, 0)  # Create a batch\n",
        "\n",
        "    # Make predictions\n",
        "    predictions = model.predict(img_array)\n",
        "    class_names = [...]  # Define your class names\n",
        "    score = tf.nn.softmax(predictions[0])\n",
        "\n",
        "    # Show the image\n",
        "    plt.imshow(img)\n",
        "    plt.axis('off')\n",
        "    plt.show()\n",
        "\n",
        "    # Print prediction results\n",
        "    print(\"This image most likely belongs to {} with a {:.2f} percent confidence.\"\n",
        "          .format(class_names[np.argmax(score)], 100 * np.max(score)))\n"
      ],
      "metadata": {
        "colab": {
          "base_uri": "https://localhost:8080/",
          "height": 1000
        },
        "id": "HFhKm4bWZzm7",
        "outputId": "e0bf94c2-9b32-4c5f-e462-fc9c1f9f6ff0"
      },
      "execution_count": 41,
      "outputs": [
        {
          "output_type": "stream",
          "name": "stdout",
          "text": [
            "1/1 [==============================] - 0s 81ms/step\n"
          ]
        },
        {
          "output_type": "display_data",
          "data": {
            "text/plain": [
              "<Figure size 640x480 with 1 Axes>"
            ],
            "image/png": "[encoded data removed]"
          },
          "metadata": {}
        },
        {
          "output_type": "stream",
          "name": "stdout",
          "text": [
            "This image most likely belongs to Ellipsis with a 100.00 percent confidence.\n",
            "1/1 [==============================] - 0s 30ms/step\n"
          ]
        },
        {
          "output_type": "display_data",
          "data": {
            "text/plain": [
              "<Figure size 640x480 with 1 Axes>"
            ],
            "image/png": "[encoded data removed]"
          },
          "metadata": {}
        },
        {
          "output_type": "stream",
          "name": "stdout",
          "text": [
            "This image most likely belongs to Ellipsis with a 100.00 percent confidence.\n",
            "1/1 [==============================] - 0s 21ms/step\n"
          ]
        },
        {
          "output_type": "display_data",
          "data": {
            "text/plain": [
              "<Figure size 640x480 with 1 Axes>"
            ],
            "image/png": "[encoded data removed]"
          },
          "metadata": {}
        },
        {
          "output_type": "stream",
          "name": "stdout",
          "text": [
            "This image most likely belongs to Ellipsis with a 100.00 percent confidence.\n"
          ]
        }
      ]
    }
  ],
  "metadata": {
    "accelerator": "GPU",
    "colab": {
      "toc_visible": true,
      "provenance": []
    },
    "kernelspec": {
      "display_name": "Python 3",
      "name": "python3"
    }
  },
  "nbformat": 4,
  "nbformat_minor": 0
}